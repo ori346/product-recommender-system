{
 "cells": [
  {
   "cell_type": "code",
   "execution_count": null,
   "id": "80975bdf",
   "metadata": {
    "vscode": {
     "languageId": "plaintext"
    }
   },
   "outputs": [],
   "source": [
    "!pip install huggingface_hub boto3 minio"
   ]
  },
  {
   "cell_type": "code",
   "execution_count": null,
   "id": "9ee15c82",
   "metadata": {
    "vscode": {
     "languageId": "plaintext"
    }
   },
   "outputs": [],
   "source": [
    "# ====== Create minio client ======\n",
    "from minio import Minio\n",
    "from minio.error import S3Error\n",
    "import  os"
   ]
  },
  {
   "cell_type": "code",
   "execution_count": null,
   "id": "324da76f",
   "metadata": {
    "vscode": {
     "languageId": "plaintext"
    }
   },
   "outputs": [],
   "source": [
    "# ====== CONFIGURE ======\n",
    "MINIO_ENDPOINT = \"SET BUCKET ENDPOINT\" # Set your minio ENDPOINT\n",
    "MINIO_ACSSESS_KEY = \"minio\" # Set your minio user name\n",
    "MINIO_SECRET_KEY = \"minio123\" # Set you minio password"
   ]
  },
  {
   "cell_type": "code",
   "execution_count": null,
   "id": "3be77e80",
   "metadata": {
    "vscode": {
     "languageId": "plaintext"
    }
   },
   "outputs": [],
   "source": [
    "# Create the MinIO client\n",
    "client = Minio(\n",
    "    MINIO_ENDPOINT,\n",
    "    access_key=MINIO_ACSSESS_KEY,\n",
    "    secret_key=MINIO_SECRET_KEY,\n",
    "    secure=False  # Set to True if you are using HTTPS\n",
    ")"
   ]
  },
  {
   "cell_type": "code",
   "execution_count": null,
   "id": "63b3be05",
   "metadata": {
    "vscode": {
     "languageId": "plaintext"
    }
   },
   "outputs": [],
   "source": [
    "# ====== Downlaod the model from huggingface and upload to minio ======\n",
    "import tempfile\n",
    "import boto3\n",
    "from huggingface_hub import hf_hub_download, list_repo_files"
   ]
  },
  {
   "cell_type": "code",
   "execution_count": null,
   "id": "f4df2b63",
   "metadata": {
    "vscode": {
     "languageId": "plaintext"
    }
   },
   "outputs": [],
   "source": [
    "# ====== CONFIGURE ======\n",
    "repo_id = \"meta-llama/Llama-3.1-8B-Instruct\"  # Change to your model repo\n",
    "revision = \"main\"\n",
    "bucket_name = \"your-bucket\" # Your bucket name\n",
    "huggingface_token = None # IF NEEDED ADD YOUR HUGGINGFACE TOKEN HERE"
   ]
  },
  {
   "cell_type": "code",
   "execution_count": null,
   "id": "95524a75",
   "metadata": {
    "vscode": {
     "languageId": "plaintext"
    }
   },
   "outputs": [],
   "source": [
    "# ====== DISABLE HF CACHE ======\n",
    "os.environ['HF_HUB_DISABLE_SYMLINKS_WARNING'] = '1'\n",
    "os.environ['HF_HUB_ENABLE_HF_TRANSFER'] = '0'\n",
    "os.environ['HF_HOME'] = tempfile.mkdtemp()"
   ]
  },
  {
   "cell_type": "code",
   "execution_count": null,
   "id": "c6049a4d",
   "metadata": {
    "vscode": {
     "languageId": "plaintext"
    }
   },
   "outputs": [],
   "source": [
    "files = list_repo_files(repo_id=repo_id, revision=revision, token=huggingface_token)\n",
    "\n",
    "for file in files:\n",
    "    print(f\"Processing: {file}\")\n",
    "    try:\n",
    "        # 1. Download to a temp file\n",
    "        temp_path = hf_hub_download(\n",
    "            repo_id=repo_id,\n",
    "            filename=file,\n",
    "            revision=revision,\n",
    "            cache_dir=os.environ['HF_HOME'],\n",
    "            local_dir_use_symlinks=False,\n",
    "        )\n",
    "\n",
    "        # 2. Upload to MinIO\n",
    "        try:\n",
    "            client.fput_object(bucket_name, file, temp_path)\n",
    "            print(f\"'{file}' is successfully uploaded as object to bucket '{bucket_name}'.\")\n",
    "        except S3Error as e:\n",
    "            print(\"Error occurred: \", e)\n",
    "\n",
    "        # 3. Delete file to free memory\n",
    "        os.remove(temp_path)\n",
    "        print(f\"Deleted local file: {temp_path}\")\n",
    "\n",
    "    except Exception as e:\n",
    "        print(f\"Error processing {file}: {e}\")"
   ]
  }
 ],
 "metadata": {
  "language_info": {
   "name": "python"
  }
 },
 "nbformat": 4,
 "nbformat_minor": 5
}
